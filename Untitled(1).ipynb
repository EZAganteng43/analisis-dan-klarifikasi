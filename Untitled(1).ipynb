{
 "cells": [
  {
   "cell_type": "code",
   "execution_count": 2,
   "id": "3a1b9bdd-3d19-4af9-afea-182ceba59493",
   "metadata": {},
   "outputs": [
    {
     "data": {
      "text/plain": [
       "(   Age  Gender  Income Education_Level Marital_Status Employment_Status  \\\n",
       " 0   56    Male   41672        Bachelor       Divorced           Student   \n",
       " 1   46  Female   78217          Master         Single          Employed   \n",
       " 2   32  Female   28279     High School       Divorced          Employed   \n",
       " 3   60  Female   17017          Master         Single     Self-Employed   \n",
       " 4   25    Male   56600     High School       Divorced          Employed   \n",
       " \n",
       "    Purchase_History  Website_Visits  Time_on_Site Target  \n",
       " 0                68               3    476.979073     No  \n",
       " 1                67               4    424.846804     No  \n",
       " 2                20               6    504.119050    Yes  \n",
       " 3                77               3    347.925010    Yes  \n",
       " 4                94               4    314.310021    Yes  ,\n",
       "                 Age Gender        Income Education_Level Marital_Status  \\\n",
       " count   1000.000000   1000   1000.000000            1000           1000   \n",
       " unique          NaN      2           NaN               4              3   \n",
       " top             NaN   Male           NaN     High School       Divorced   \n",
       " freq            NaN    526           NaN             266            345   \n",
       " mean      40.986000    NaN  50852.235000             NaN            NaN   \n",
       " std       13.497852    NaN  15009.184041             NaN            NaN   \n",
       " min       18.000000    NaN   6179.000000             NaN            NaN   \n",
       " 25%       29.000000    NaN  40770.250000             NaN            NaN   \n",
       " 50%       42.000000    NaN  50631.000000             NaN            NaN   \n",
       " 75%       52.000000    NaN  60796.750000             NaN            NaN   \n",
       " max       64.000000    NaN  97896.000000             NaN            NaN   \n",
       " \n",
       "        Employment_Status  Purchase_History  Website_Visits  Time_on_Site  \\\n",
       " count               1000       1000.000000     1000.000000   1000.000000   \n",
       " unique                 4               NaN             NaN           NaN   \n",
       " top              Student               NaN             NaN           NaN   \n",
       " freq                 266               NaN             NaN           NaN   \n",
       " mean                 NaN         50.154000        4.926000    301.143695   \n",
       " std                  NaN         28.791965        2.085395     99.570660   \n",
       " min                  NaN          0.000000        0.000000      0.000000   \n",
       " 25%                  NaN         25.000000        3.000000    233.384875   \n",
       " 50%                  NaN         50.000000        5.000000    298.903917   \n",
       " 75%                  NaN         76.000000        6.000000    370.653240   \n",
       " max                  NaN         99.000000       14.000000    654.406501   \n",
       " \n",
       "        Target  \n",
       " count    1000  \n",
       " unique      2  \n",
       " top       Yes  \n",
       " freq      504  \n",
       " mean      NaN  \n",
       " std       NaN  \n",
       " min       NaN  \n",
       " 25%       NaN  \n",
       " 50%       NaN  \n",
       " 75%       NaN  \n",
       " max       NaN  )"
      ]
     },
     "execution_count": 2,
     "metadata": {},
     "output_type": "execute_result"
    }
   ],
   "source": [
    "import pandas as pd\n",
    "import numpy as np\n",
    "\n",
    "# Set seed for reproducibility\n",
    "np.random.seed(42)\n",
    "\n",
    "# Jumlah data\n",
    "n_samples = 1000\n",
    "\n",
    "# Generate sample data\n",
    "data = pd.DataFrame({\n",
    "    'Age': np.random.randint(18, 65, size=n_samples),\n",
    "    'Gender': np.random.choice(['Male', 'Female'], size=n_samples),\n",
    "    'Income': np.random.normal(50000, 15000, size=n_samples).astype(int),\n",
    "    'Education_Level': np.random.choice(['High School', 'Bachelor', 'Master', 'PhD'], size=n_samples),\n",
    "    'Marital_Status': np.random.choice(['Single', 'Married', 'Divorced'], size=n_samples),\n",
    "    'Employment_Status': np.random.choice(['Employed', 'Unemployed', 'Self-Employed', 'Student'], size=n_samples),\n",
    "    'Purchase_History': np.random.randint(0, 100, size=n_samples),\n",
    "    'Website_Visits': np.random.poisson(5, size=n_samples),\n",
    "    'Time_on_Site': np.random.normal(300, 100, size=n_samples).clip(min=0),\n",
    "    'Target': np.random.choice(['Yes', 'No'], size=n_samples)\n",
    "})\n",
    "\n",
    "# Lihat beberapa data pertama\n",
    "sample_data_preview = data.head()\n",
    "\n",
    "# Statistik deskriptif\n",
    "summary_stats = data.describe(include='all')\n",
    "\n",
    "sample_data_preview, summary_stats\n"
   ]
  },
  {
   "cell_type": "code",
   "execution_count": null,
   "id": "562397a7-5e97-48de-91da-9e6c7368135f",
   "metadata": {},
   "outputs": [],
   "source": []
  }
 ],
 "metadata": {
  "kernelspec": {
   "display_name": "Python [conda env:base] *",
   "language": "python",
   "name": "conda-base-py"
  },
  "language_info": {
   "codemirror_mode": {
    "name": "ipython",
    "version": 3
   },
   "file_extension": ".py",
   "mimetype": "text/x-python",
   "name": "python",
   "nbconvert_exporter": "python",
   "pygments_lexer": "ipython3",
   "version": "3.12.7"
  }
 },
 "nbformat": 4,
 "nbformat_minor": 5
}
